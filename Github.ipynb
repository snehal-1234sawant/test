{
 "cells": [
  {
   "cell_type": "markdown",
   "metadata": {},
   "source": [
    "## Git"
   ]
  },
  {
   "cell_type": "raw",
   "metadata": {},
   "source": [
    "Git connects with github account using git commands\n",
    "git facilitates to run git commands in cnd prompt\n",
    "\n",
    "Where to download from:\n",
    "    https://git-scm.com/download\n",
    "        \n",
    "        \n",
    "Install git on you system"
   ]
  },
  {
   "cell_type": "markdown",
   "metadata": {},
   "source": [
    "## Storing Data:"
   ]
  },
  {
   "cell_type": "raw",
   "metadata": {},
   "source": [
    "Github\n",
    "Gitlab\n",
    "Bitbucket"
   ]
  },
  {
   "cell_type": "markdown",
   "metadata": {},
   "source": [
    "# Git commands for Github access"
   ]
  },
  {
   "cell_type": "markdown",
   "metadata": {},
   "source": [
    "## Clone Repository"
   ]
  },
  {
   "cell_type": "raw",
   "metadata": {},
   "source": [
    "git clone repository name\n",
    "\n",
    "Eg.\n",
    "git clone https://github.com/Pratik-Kanpurwar/5Mar.git"
   ]
  },
  {
   "cell_type": "markdown",
   "metadata": {},
   "source": [
    "## check status of your project"
   ]
  },
  {
   "cell_type": "raw",
   "metadata": {},
   "source": [
    "git status"
   ]
  },
  {
   "cell_type": "code",
   "execution_count": null,
   "metadata": {},
   "outputs": [],
   "source": [
    "Changes not staged for commit:\n",
    "  (use \"git add <file>...\" to update what will be committed)\n",
    "  (use \"git restore <file>...\" to discard changes in working directory)\n",
    "        modified:   README.md\n",
    "\n",
    "Untracked files:\n",
    "  (use \"git add <file>...\" to include in what will be committed)\n",
    "        1.1.1 Python & Variables.ipynb\n",
    "        1.2.1 Strings.ipynb\n",
    "        my_dict.xlsx\n",
    "        new.py"
   ]
  },
  {
   "cell_type": "markdown",
   "metadata": {},
   "source": [
    "## Add files"
   ]
  },
  {
   "cell_type": "raw",
   "metadata": {},
   "source": [
    "# add a single file\n",
    "\n",
    "git add file name\n",
    "\n",
    "git add new.py"
   ]
  },
  {
   "cell_type": "raw",
   "metadata": {},
   "source": [
    "# git add all files\n",
    "\n",
    "git add --all\n",
    "\n",
    "git add ."
   ]
  },
  {
   "cell_type": "markdown",
   "metadata": {},
   "source": [
    "## Commit changes"
   ]
  },
  {
   "cell_type": "raw",
   "metadata": {},
   "source": [
    "git commit -m \"your msg\""
   ]
  },
  {
   "cell_type": "markdown",
   "metadata": {},
   "source": [
    "## Push files"
   ]
  },
  {
   "cell_type": "raw",
   "metadata": {},
   "source": [
    "# pushing on main branch/origin branch\n",
    "\n",
    "git push"
   ]
  },
  {
   "cell_type": "code",
   "execution_count": null,
   "metadata": {},
   "outputs": [],
   "source": [
    "# pushing to any sub-branch\n",
    "\n",
    "git push origin branch name\n",
    "\n",
    "git push origin feature_engineering"
   ]
  },
  {
   "cell_type": "markdown",
   "metadata": {},
   "source": [
    "## Create new branch"
   ]
  },
  {
   "cell_type": "code",
   "execution_count": null,
   "metadata": {},
   "outputs": [],
   "source": [
    "git checkout -b branch name\n",
    "\n",
    "git checkout -b feature_engineering"
   ]
  },
  {
   "cell_type": "markdown",
   "metadata": {},
   "source": [
    "## check on which branch you are"
   ]
  },
  {
   "cell_type": "raw",
   "metadata": {},
   "source": [
    "git branch"
   ]
  },
  {
   "cell_type": "markdown",
   "metadata": {},
   "source": [
    "## switch branch"
   ]
  },
  {
   "cell_type": "code",
   "execution_count": null,
   "metadata": {},
   "outputs": [],
   "source": [
    "git checkout branch name\n",
    "\n",
    "git checkout main"
   ]
  },
  {
   "cell_type": "markdown",
   "metadata": {},
   "source": [
    "## Pull"
   ]
  },
  {
   "cell_type": "raw",
   "metadata": {},
   "source": [
    "git pull\n",
    "\n",
    "git pull origin branch name"
   ]
  },
  {
   "cell_type": "markdown",
   "metadata": {},
   "source": [
    "## delete branch"
   ]
  },
  {
   "cell_type": "raw",
   "metadata": {},
   "source": [
    "# delete local branch\n",
    "git branch -d branch name\n",
    "\n",
    "# delete branch remotly\n",
    "git push origin --delete branch name"
   ]
  },
  {
   "cell_type": "markdown",
   "metadata": {},
   "source": [
    "## merge"
   ]
  },
  {
   "cell_type": "code",
   "execution_count": null,
   "metadata": {},
   "outputs": [],
   "source": [
    "git merge new_branch main_branch\n",
    "\n",
    "git merge feature_engineering main"
   ]
  }
 ],
 "metadata": {
  "kernelspec": {
   "display_name": "Python 3 (ipykernel)",
   "language": "python",
   "name": "python3"
  },
  "language_info": {
   "codemirror_mode": {
    "name": "ipython",
    "version": 3
   },
   "file_extension": ".py",
   "mimetype": "text/x-python",
   "name": "python",
   "nbconvert_exporter": "python",
   "pygments_lexer": "ipython3",
   "version": "3.9.7"
  },
  "toc": {
   "base_numbering": 1,
   "nav_menu": {},
   "number_sections": true,
   "sideBar": true,
   "skip_h1_title": false,
   "title_cell": "Table of Contents",
   "title_sidebar": "Contents",
   "toc_cell": false,
   "toc_position": {},
   "toc_section_display": true,
   "toc_window_display": false
  }
 },
 "nbformat": 4,
 "nbformat_minor": 4
}
